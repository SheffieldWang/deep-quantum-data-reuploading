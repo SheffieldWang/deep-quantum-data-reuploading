{
 "cells": [
  {
   "cell_type": "code",
   "execution_count": 1,
   "metadata": {},
   "outputs": [],
   "source": [
    "import jax\n",
    "import jax.numpy as jnp\n",
    "import numpy as np\n",
    "\n",
    "import os\n"
   ]
  },
  {
   "cell_type": "code",
   "execution_count": 2,
   "metadata": {},
   "outputs": [
    {
     "name": "stderr",
     "output_type": "stream",
     "text": [
      "An NVIDIA GPU may be present on this machine, but a CUDA-enabled jaxlib is not installed. Falling back to cpu.\n"
     ]
    },
    {
     "data": {
      "text/plain": [
       "'cpu'"
      ]
     },
     "execution_count": 2,
     "metadata": {},
     "output_type": "execute_result"
    }
   ],
   "source": [
    "jax.config.update('jax_platform_name', 'cpu')\n",
    "jax.config.update(\"jax_enable_x64\", True)\n",
    "jax.default_backend()"
   ]
  },
  {
   "cell_type": "code",
   "execution_count": 3,
   "metadata": {},
   "outputs": [],
   "source": [
    "key = jax.random.PRNGKey(0)"
   ]
  },
  {
   "cell_type": "code",
   "execution_count": 4,
   "metadata": {},
   "outputs": [],
   "source": [
    "def generate_linearly_separable(n_samples, n_features):\n",
    "    \"\"\"Data generation procedure for 'linearly separable'.\n",
    "\n",
    "    Args:\n",
    "        n_samples (int): number of samples to generate\n",
    "        n_features (int): dimension of the data samples\n",
    "        margin (float): width between hyperplane and closest samples\n",
    "    \"\"\"\n",
    "\n",
    "    w_true = jnp.ones(n_features)\n",
    "    margin = 0.3*n_features\n",
    "    # hack: sample more data than we need randomly from a hypercube\n",
    "    X = jax.random.uniform(key, shape=(40 * n_samples, n_features),minval=-jnp.pi/2,maxval=jnp.pi/2)\n",
    "\n",
    "    # only retain data outside a margin\n",
    "    X = [x for x in X if jnp.abs(jnp.dot(x, w_true)) > margin]\n",
    "    X = X[:n_samples]\n",
    "\n",
    "    y = [jnp.dot(x, w_true) for x in X]\n",
    "    y = [0 if y_ > 0 else 1 for y_ in y]\n",
    "    return jnp.array(X), jnp.array(y)"
   ]
  },
  {
   "cell_type": "code",
   "execution_count": 5,
   "metadata": {},
   "outputs": [],
   "source": [
    "def generate_dataset(features,labels,M_total,M_train,M_test,key=jax.random.PRNGKey(0)):\n",
    "    \n",
    "    # subsample train and test split\n",
    "    test_indices = jax.random.choice(key,M_total, shape=(M_test,), replace=False)\n",
    "    \n",
    "    train_indices = jax.random.choice(key,\n",
    "        jnp.setdiff1d(jnp.arange(M_total), test_indices), shape=(M_train,), replace=False)\n",
    "        \n",
    "    x_train, y_train = features[train_indices], labels[train_indices]\n",
    "    x_test, y_test = features[test_indices], labels[test_indices]\n",
    "\n",
    "    return jnp.array(x_train),jnp.array(y_train),jnp.array(x_test),jnp.array(y_test)"
   ]
  },
  {
   "cell_type": "code",
   "execution_count": 6,
   "metadata": {},
   "outputs": [],
   "source": [
    "def save_dataset(n_qubits,n_layers,M_train,M_test,data_type,M_total,datasets_path):\n",
    "\n",
    "    # Create directory if it doesn't exist\n",
    "    os.makedirs(f\"{datasets_path}/{data_type}\", exist_ok=True)\n",
    "    n_features =  n_qubits * n_layers * 3  # Dimensionality\n",
    "    n_samples = M_total\n",
    "    features,labels = generate_linearly_separable(n_samples,n_features)\n",
    "    print(features.shape)\n",
    "    features = features.reshape(n_samples,n_layers,n_qubits,3)\n",
    "    x_train,y_train,x_test,y_test = generate_dataset(features,labels,M_total,M_train,M_test)\n",
    "    jnp.save(f\"{datasets_path}/{data_type}/x_train_qubit_{n_qubits}_layer_{n_layers}_sample_{M_train}.npy\",x_train)\n",
    "    jnp.save(f\"{datasets_path}/{data_type}/y_train_qubit_{n_qubits}_layer_{n_layers}_sample_{M_train}.npy\",y_train)\n",
    "    jnp.save(f\"{datasets_path}/{data_type}/x_test_qubit_{n_qubits}_layer_{n_layers}_sample_{M_test}.npy\",x_test)\n",
    "    jnp.save(f\"{datasets_path}/{data_type}/y_test_qubit_{n_qubits}_layer_{n_layers}_sample_{M_test}.npy\",y_test)\n",
    "    "
   ]
  },
  {
   "cell_type": "code",
   "execution_count": 11,
   "metadata": {},
   "outputs": [],
   "source": []
  },
  {
   "cell_type": "code",
   "execution_count": null,
   "metadata": {},
   "outputs": [],
   "source": []
  },
  {
   "cell_type": "code",
   "execution_count": 8,
   "metadata": {},
   "outputs": [],
   "source": [
    "M_train = 600\n",
    "M_test = 10000\n",
    "M_total = 16000\n",
    "n_qubits = 1\n",
    "data_type = \"classification_linear\"\n",
    "datasets_path = '../../datasets'"
   ]
  },
  {
   "cell_type": "code",
   "execution_count": 29,
   "metadata": {},
   "outputs": [
    {
     "name": "stdout",
     "output_type": "stream",
     "text": [
      "(16000, 3)\n",
      "(16000, 6)\n",
      "(16000, 9)\n",
      "(16000, 12)\n",
      "(16000, 15)\n",
      "(16000, 18)\n",
      "(16000, 21)\n",
      "(16000, 24)\n"
     ]
    }
   ],
   "source": [
    "for l in range(1,9):\n",
    "    save_dataset(n_qubits=n_qubits,n_layers=l,M_train=M_train,M_test=M_test,data_type=data_type,M_total=M_total,datasets_path=datasets_path)"
   ]
  },
  {
   "cell_type": "code",
   "execution_count": 30,
   "metadata": {},
   "outputs": [
    {
     "name": "stdout",
     "output_type": "stream",
     "text": [
      "(16000, 24)\n",
      "(16000, 24)\n",
      "(16000, 24)\n"
     ]
    }
   ],
   "source": [
    "n_qubits = 1 \n",
    "n_layers = 8\n",
    "for M_train in [1200,2000,5000]:\n",
    "    save_dataset(n_qubits=n_qubits,n_layers=n_layers,M_train=M_train,M_test=M_test,data_type=data_type,M_total=M_total,datasets_path=datasets_path)"
   ]
  },
  {
   "cell_type": "code",
   "execution_count": 9,
   "metadata": {},
   "outputs": [
    {
     "name": "stdout",
     "output_type": "stream",
     "text": [
      "(16000, 24)\n",
      "(16000, 24)\n",
      "(16000, 24)\n"
     ]
    }
   ],
   "source": [
    "M_train = 600\n",
    "for (n,l) in [(2,4),(4,2),(8,1)]:\n",
    "    save_dataset(n_qubits=n,n_layers=l,M_train=M_train,M_test=M_test,data_type=data_type,M_total=M_total,datasets_path=datasets_path)"
   ]
  },
  {
   "cell_type": "code",
   "execution_count": 11,
   "metadata": {},
   "outputs": [
    {
     "name": "stdout",
     "output_type": "stream",
     "text": [
      "(16000, 24)\n",
      "(16000, 24)\n",
      "(16000, 24)\n"
     ]
    }
   ],
   "source": [
    "M_train = 5000\n",
    "for (n,l) in [(2,4),(4,2),(8,1)]:\n",
    "    save_dataset(n_qubits=n,n_layers=l,M_train=M_train,M_test=M_test,data_type=data_type,M_total=M_total,datasets_path=datasets_path)"
   ]
  },
  {
   "cell_type": "code",
   "execution_count": null,
   "metadata": {},
   "outputs": [],
   "source": []
  }
 ],
 "metadata": {
  "kernelspec": {
   "display_name": "quantum",
   "language": "python",
   "name": "python3"
  },
  "language_info": {
   "codemirror_mode": {
    "name": "ipython",
    "version": 3
   },
   "file_extension": ".py",
   "mimetype": "text/x-python",
   "name": "python",
   "nbconvert_exporter": "python",
   "pygments_lexer": "ipython3",
   "version": "3.11.11"
  }
 },
 "nbformat": 4,
 "nbformat_minor": 2
}
