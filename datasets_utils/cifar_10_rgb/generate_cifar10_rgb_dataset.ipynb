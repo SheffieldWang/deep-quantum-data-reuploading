{
 "cells": [
  {
   "cell_type": "code",
   "execution_count": 2,
   "metadata": {},
   "outputs": [],
   "source": [
    "import os\n",
    "import jax\n",
    "import jax.numpy as jnp\n",
    "import matplotlib.pyplot as plt\n",
    "\n",
    "\n",
    "from torch.utils.data import DataLoader\n",
    "from torchvision import datasets, transforms\n",
    "\n"
   ]
  },
  {
   "cell_type": "code",
   "execution_count": null,
   "metadata": {},
   "outputs": [
    {
     "name": "stderr",
     "output_type": "stream",
     "text": [
      "An NVIDIA GPU may be present on this machine, but a CUDA-enabled jaxlib is not installed. Falling back to cpu.\n"
     ]
    },
    {
     "data": {
      "text/plain": [
       "'cpu'"
      ]
     },
     "execution_count": 3,
     "metadata": {},
     "output_type": "execute_result"
    }
   ],
   "source": [
    "jax.config.update('jax_platform_name', 'cpu')\n",
    "jax.config.update(\"jax_enable_x64\", True)\n",
    "jax.default_backend()"
   ]
  },
  {
   "cell_type": "code",
   "execution_count": 4,
   "metadata": {},
   "outputs": [],
   "source": [
    "key = jax.random.PRNGKey(0)"
   ]
  },
  {
   "cell_type": "code",
   "execution_count": 5,
   "metadata": {},
   "outputs": [],
   "source": [
    "def generate_mnist_dataset(M_train, M_test, size=12,n_layers=8,n_qubits=18):\n",
    "    \"\"\"Data generation procedure for 'linearly separable'.\n",
    "\n",
    "    Args:\n",
    "        n_samples (int): number of samples to generate\n",
    "        n_features (int): dimension of the data samples\n",
    "        margin (float): width between hyperplane and closest samples\n",
    "    \"\"\"\n",
    "\n",
    "    # 载入MNIST数据集\n",
    "    trainset = datasets.CIFAR10(root='~/Datasets', train=True, download=True, transform=None)\n",
    "    testset = datasets.CIFAR10(root='~/Datasets', train=False, download=True, transform=None)\n",
    "    \n",
    "    train_idx = jnp.where((jnp.array(trainset.targets) == 0) | (jnp.array(trainset.targets) == 1))[0][:M_train]\n",
    "    test_idx = jnp.where((jnp.array(testset.targets) == 0) | (jnp.array(testset.targets) == 1))[0][:M_test]\n",
    "    \n",
    "    x_train = trainset.data[train_idx.tolist()]\n",
    "    y_train = jnp.array(trainset.targets)[train_idx]\n",
    "    x_test = testset.data[test_idx.tolist()]\n",
    "    y_test = jnp.array(testset.targets)[test_idx]\n",
    "\n",
    "    # 在获取数据后进行转换\n",
    "    transform = transforms.Compose([\n",
    "        transforms.ToPILImage(),\n",
    "        # transforms.Grayscale(num_output_channels=1),  # 转换为灰度图\n",
    "        transforms.Resize((size, size), interpolation=transforms.InterpolationMode.BILINEAR),  # 调整大小\n",
    "        transforms.ToTensor(),\n",
    "    ])\n",
    "    \n",
    "    # 对数据进行批量转换\n",
    "    x_train = jnp.array([transform(img).permute(1,2,0).numpy() for img in x_train]).reshape(-1, n_layers, n_qubits, 3)\n",
    "    x_test = jnp.array([transform(img).permute(1,2,0).numpy() for img in x_test]).reshape(-1, n_layers, n_qubits, 3)\n",
    "\n",
    "    return x_train, y_train, x_test, y_test\n"
   ]
  },
  {
   "cell_type": "code",
   "execution_count": 26,
   "metadata": {},
   "outputs": [],
   "source": []
  },
  {
   "cell_type": "code",
   "execution_count": 6,
   "metadata": {},
   "outputs": [
    {
     "data": {
      "text/plain": [
       "432"
      ]
     },
     "execution_count": 6,
     "metadata": {},
     "output_type": "execute_result"
    }
   ],
   "source": [
    "12*12*3"
   ]
  },
  {
   "cell_type": "code",
   "execution_count": 7,
   "metadata": {},
   "outputs": [],
   "source": [
    "M_train = 600\n",
    "M_test = 1000\n",
    "size = 12"
   ]
  },
  {
   "cell_type": "code",
   "execution_count": 8,
   "metadata": {},
   "outputs": [
    {
     "name": "stdout",
     "output_type": "stream",
     "text": [
      "Training set shape: (600, 8, 18, 3)\n",
      "Training labels shape: (600,)\n",
      "Test set shape: (1000, 8, 18, 3)\n",
      "Test labels shape: (1000,)\n"
     ]
    },
    {
     "data": {
      "image/png": "[encoded data removed]",
      "text/plain": [
       "<Figure size 1000x200 with 5 Axes>"
      ]
     },
     "metadata": {},
     "output_type": "display_data"
    }
   ],
   "source": [
    "x_train, y_train, x_test, y_test = generate_mnist_dataset(M_train, M_test, size)\n",
    "\n",
    "print(\"Training set shape:\", x_train.shape)\n",
    "print(\"Training labels shape:\", y_train.shape)\n",
    "print(\"Test set shape:\", x_test.shape)\n",
    "print(\"Test labels shape:\", y_test.shape)\n",
    "\n",
    "# Display sample images\n",
    "plt.figure(figsize=(10,2))\n",
    "for i in range(5):\n",
    "    plt.subplot(1,5,i+1)\n",
    "    plt.imshow(x_train[i].reshape(12,12,3))\n",
    "    plt.title(f'Label: {y_train[i]}')\n",
    "    plt.axis('off')\n",
    "plt.tight_layout()\n",
    "plt.show()\n",
    "\n"
   ]
  },
  {
   "cell_type": "code",
   "execution_count": 9,
   "metadata": {},
   "outputs": [],
   "source": [
    "def save_dataset(n_qubits,n_layers,M_train,M_test,size,data_type,datasets_path):\n",
    "    os.makedirs(f\"{datasets_path}/{data_type}\", exist_ok=True)\n",
    "    x_train,y_train,x_test,y_test = generate_mnist_dataset(M_train,M_test,size,n_layers,n_qubits)\n",
    "    x_train = x_train.reshape(M_train,n_layers,n_qubits,3)\n",
    "    x_test = x_test.reshape(M_test,n_layers,n_qubits,3)\n",
    "    jnp.save(f\"{datasets_path}/{data_type}/x_train_qubit_{n_qubits}_layer_{n_layers}_sample_{M_train}.npy\",x_train)\n",
    "    jnp.save(f\"{datasets_path}/{data_type}/y_train_qubit_{n_qubits}_layer_{n_layers}_sample_{M_train}.npy\",y_train)\n",
    "    jnp.save(f\"{datasets_path}/{data_type}/x_test_qubit_{n_qubits}_layer_{n_layers}_sample_{M_test}.npy\",x_test)\n",
    "    jnp.save(f\"{datasets_path}/{data_type}/y_test_qubit_{n_qubits}_layer_{n_layers}_sample_{M_test}.npy\",y_test)\n",
    "    "
   ]
  },
  {
   "cell_type": "code",
   "execution_count": 10,
   "metadata": {},
   "outputs": [],
   "source": [
    "n_qubits = 8\n",
    "n_layers = 18\n",
    "M_train = 600\n",
    "M_test = 1000\n",
    "size = 12\n",
    "data_type = 'cifar10_rgb'\n",
    "datasets_path = '../../datasets'\n",
    "save_dataset(n_qubits=n_qubits,n_layers=n_layers,M_train=M_train,M_test=M_test,size=size,data_type=data_type,datasets_path=datasets_path)\n"
   ]
  },
  {
   "cell_type": "code",
   "execution_count": 42,
   "metadata": {},
   "outputs": [
    {
     "data": {
      "text/plain": [
       "18.0"
      ]
     },
     "execution_count": 42,
     "metadata": {},
     "output_type": "execute_result"
    }
   ],
   "source": [
    "12*12*3 /3 / 8"
   ]
  },
  {
   "cell_type": "code",
   "execution_count": 48,
   "metadata": {},
   "outputs": [],
   "source": []
  },
  {
   "cell_type": "code",
   "execution_count": null,
   "metadata": {},
   "outputs": [],
   "source": []
  },
  {
   "cell_type": "code",
   "execution_count": null,
   "metadata": {},
   "outputs": [],
   "source": []
  },
  {
   "cell_type": "code",
   "execution_count": null,
   "metadata": {},
   "outputs": [],
   "source": []
  }
 ],
 "metadata": {
  "kernelspec": {
   "display_name": "quantum",
   "language": "python",
   "name": "python3"
  },
  "language_info": {
   "codemirror_mode": {
    "name": "ipython",
    "version": 3
   },
   "file_extension": ".py",
   "mimetype": "text/x-python",
   "name": "python",
   "nbconvert_exporter": "python",
   "pygments_lexer": "ipython3",
   "version": "3.11.11"
  }
 },
 "nbformat": 4,
 "nbformat_minor": 2
}
