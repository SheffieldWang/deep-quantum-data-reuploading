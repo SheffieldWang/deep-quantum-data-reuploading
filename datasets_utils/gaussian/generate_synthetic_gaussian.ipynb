{
 "cells": [
  {
   "cell_type": "code",
   "execution_count": 3,
   "metadata": {},
   "outputs": [],
   "source": [
    "import os\n",
    "\n",
    "import jax\n",
    "import jax.numpy as jnp\n",
    "\n"
   ]
  },
  {
   "cell_type": "code",
   "execution_count": 4,
   "metadata": {},
   "outputs": [],
   "source": [
    "jax.config.update('jax_platform_name', 'cpu')\n",
    "jax.config.update(\"jax_enable_x64\", True)\n"
   ]
  },
  {
   "cell_type": "code",
   "execution_count": 5,
   "metadata": {},
   "outputs": [],
   "source": [
    "key = jax.random.PRNGKey(0)"
   ]
  },
  {
   "cell_type": "code",
   "execution_count": 8,
   "metadata": {},
   "outputs": [],
   "source": [
    "def generate_gaussian(n_samples,n_features,sigma_d = 0.8):\n",
    "    # n_samples for each class\n",
    "    D = n_features\n",
    "    # Generate synthetic data\n",
    "    # First class: mean = 2π/32 * (d mod 16)\n",
    "    mu_1 = (2 * jnp.pi / 16) * ( (jnp.arange(D)) % 8 ) % (2*jnp.pi)\n",
    "\n",
    "    # Second class: mean = 2π/32 * (16 + d mod 16)\n",
    "    mu_2 = (2 * jnp.pi / 16) * ( 8 + jnp.arange(D) % 8 )% (2*jnp.pi)\n",
    "    n_samples_per_class = n_samples // 2\n",
    "    # Generate data from Gaussian distribution\n",
    "    features_1 = mu_1 + sigma_d * jax.random.normal(key, shape=(n_samples_per_class,D))\n",
    "    features_2 = mu_2 + sigma_d * jax.random.normal(key, shape=(n_samples_per_class,D))\n",
    "    features = jnp.vstack([features_1,features_2])\n",
    "    labels = jnp.hstack([jnp.zeros(n_samples_per_class,dtype=int),jnp.ones(n_samples_per_class,dtype=int)])\n",
    "\n",
    "    return features,labels"
   ]
  },
  {
   "cell_type": "code",
   "execution_count": 20,
   "metadata": {},
   "outputs": [],
   "source": [
    "def generate_dataset(features,labels,M_train,M_test,key=jax.random.PRNGKey(0)):\n",
    "    \n",
    "    # subsample train and test split\n",
    "    train_indices = jax.random.choice(key,len(labels), shape=(M_train,), replace=False)\n",
    "    test_indices = jax.random.choice(key,\n",
    "        jnp.setdiff1d(jnp.arange(len(labels)), train_indices), shape=(M_test,), replace=False)\n",
    "\n",
    "    x_train, y_train = features[train_indices], labels[train_indices]\n",
    "    x_test, y_test = features[test_indices], labels[test_indices]\n",
    "\n",
    "    return jnp.array(x_train),jnp.array(y_train),jnp.array(x_test),jnp.array(y_test)"
   ]
  },
  {
   "cell_type": "code",
   "execution_count": 21,
   "metadata": {},
   "outputs": [],
   "source": [
    "def save_dataset(n_qubits,n_layers,M_train,M_test,data_type,M_total,datasets_path):\n",
    "\n",
    "    # Create directory if it doesn't exist\n",
    "    os.makedirs(f\"{datasets_path}/{data_type}\", exist_ok=True)\n",
    "    n_features =  n_qubits * n_layers * 3  # Dimensionality\n",
    "    n_samples = M_total\n",
    "    features,labels = generate_gaussian(n_samples,n_features)\n",
    "    print(features.shape)\n",
    "    features = features.reshape(n_samples,n_layers,n_qubits,3)\n",
    "    x_train,y_train,x_test,y_test = generate_dataset(features,labels,M_train,M_test)\n",
    "    jnp.save(f\"{datasets_path}/{data_type}/x_train_qubit_{n_qubits}_layer_{n_layers}_sample_{M_train}.npy\",x_train)\n",
    "    jnp.save(f\"{datasets_path}/{data_type}/y_train_qubit_{n_qubits}_layer_{n_layers}_sample_{M_train}.npy\",y_train)\n",
    "    jnp.save(f\"{datasets_path}/{data_type}/x_test_qubit_{n_qubits}_layer_{n_layers}_sample_{M_test}.npy\",x_test)\n",
    "    jnp.save(f\"{datasets_path}/{data_type}/y_test_qubit_{n_qubits}_layer_{n_layers}_sample_{M_test}.npy\",y_test)\n",
    "    "
   ]
  },
  {
   "cell_type": "code",
   "execution_count": 22,
   "metadata": {},
   "outputs": [],
   "source": [
    "M_train = 2000\n",
    "M_test = 1000000\n",
    "M_total = 1002000\n",
    "n_qubits = 1\n",
    "data_type = \"gaussian\"\n",
    "datasets_path = '../../datasets'"
   ]
  },
  {
   "cell_type": "code",
   "execution_count": 24,
   "metadata": {},
   "outputs": [
    {
     "name": "stdout",
     "output_type": "stream",
     "text": [
      "(1002000, 6)\n",
      "(1002000, 12)\n",
      "(1002000, 18)\n",
      "(1002000, 24)\n",
      "(1002000, 30)\n",
      "(1002000, 36)\n",
      "(1002000, 42)\n",
      "(1002000, 48)\n",
      "(1002000, 12)\n",
      "(1002000, 24)\n",
      "(1002000, 36)\n",
      "(1002000, 48)\n",
      "(1002000, 60)\n",
      "(1002000, 72)\n",
      "(1002000, 84)\n",
      "(1002000, 96)\n",
      "(1002000, 18)\n",
      "(1002000, 36)\n",
      "(1002000, 54)\n",
      "(1002000, 72)\n",
      "(1002000, 90)\n",
      "(1002000, 108)\n",
      "(1002000, 126)\n",
      "(1002000, 144)\n"
     ]
    }
   ],
   "source": [
    "for n in [2,4,6]:\n",
    "    for l in range(1,9):\n",
    "        save_dataset(n,l,M_train=M_train,M_test=M_test,M_total=M_total,data_type=data_type,datasets_path=datasets_path)"
   ]
  },
  {
   "cell_type": "code",
   "execution_count": null,
   "metadata": {},
   "outputs": [],
   "source": []
  },
  {
   "cell_type": "code",
   "execution_count": null,
   "metadata": {},
   "outputs": [],
   "source": []
  },
  {
   "cell_type": "code",
   "execution_count": null,
   "metadata": {},
   "outputs": [],
   "source": []
  }
 ],
 "metadata": {
  "kernelspec": {
   "display_name": "quantum",
   "language": "python",
   "name": "python3"
  },
  "language_info": {
   "codemirror_mode": {
    "name": "ipython",
    "version": 3
   },
   "file_extension": ".py",
   "mimetype": "text/x-python",
   "name": "python",
   "nbconvert_exporter": "python",
   "pygments_lexer": "ipython3",
   "version": "3.11.9"
  }
 },
 "nbformat": 4,
 "nbformat_minor": 2
}
