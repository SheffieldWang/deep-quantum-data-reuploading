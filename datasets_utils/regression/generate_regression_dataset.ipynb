{
 "cells": [
  {
   "cell_type": "code",
   "execution_count": 7,
   "metadata": {},
   "outputs": [],
   "source": [
    "import os\n",
    "import jax\n",
    "import jax.numpy as jnp\n",
    "\n"
   ]
  },
  {
   "cell_type": "code",
   "execution_count": 2,
   "metadata": {},
   "outputs": [],
   "source": [
    "key = jax.random.PRNGKey(0)"
   ]
  },
  {
   "cell_type": "code",
   "execution_count": 3,
   "metadata": {},
   "outputs": [],
   "source": [
    "def generate_tanh_dataset(n_samples, n_features):\n",
    "    \"\"\"Generate a regression dataset based on hyperbolic tangent function.\n",
    "    \n",
    "    This function creates a non-linear regression dataset where the labels are\n",
    "    computed as the normalized hyperbolic tangent of the sum of input features.\n",
    "    \n",
    "    Args:\n",
    "        n_samples (int): Number of samples to generate\n",
    "        n_features (int): Number of features per sample\n",
    "        \n",
    "    Returns:\n",
    "        tuple: Contains two JAX arrays:\n",
    "            - X: Input features array of shape (n_samples, n_features)\n",
    "            - Y: Label array of shape (n_samples,) with values in range [0,1]\n",
    "    \"\"\"\n",
    "    \n",
    "    # Generate random features in range [-pi, pi]\n",
    "    X = jax.random.uniform(key, shape=(n_samples, n_features),minval=-1,maxval=1)\n",
    "    # Calculate labels using tanh function\n",
    "    Y = (jnp.tanh(jnp.sum(X, axis=1)) + 1) / 2\n",
    "    \n",
    "    return jnp.array(X), jnp.array(Y)"
   ]
  },
  {
   "cell_type": "code",
   "execution_count": 4,
   "metadata": {},
   "outputs": [],
   "source": [
    "def generate_dataset(features,labels,M_total,M_train,M_test,key=jax.random.PRNGKey(0)):\n",
    "    \n",
    "    # subsample train and test split\n",
    "    test_indices = jax.random.choice(key,M_total, shape=(M_test,), replace=False)\n",
    "    \n",
    "    train_indices = jax.random.choice(key,\n",
    "        jnp.setdiff1d(jnp.arange(M_total), test_indices), shape=(M_train,), replace=False)\n",
    "        \n",
    "    x_train, y_train = features[train_indices], labels[train_indices]\n",
    "    x_test, y_test = features[test_indices], labels[test_indices]\n",
    "\n",
    "    return jnp.array(x_train),jnp.array(y_train),jnp.array(x_test),jnp.array(y_test)"
   ]
  },
  {
   "cell_type": "code",
   "execution_count": 5,
   "metadata": {},
   "outputs": [],
   "source": [
    "def save_dataset(n_qubits,n_layers,M_train,M_test,data_type,M_total,datasets_path):\n",
    "    # Create directory if it doesn't exist\n",
    "    os.makedirs(f\"{datasets_path}/{data_type}\", exist_ok=True)\n",
    "    n_features =  n_qubits * n_layers * 3  # Dimensionality\n",
    "    n_samples = M_total\n",
    "    features,labels = generate_tanh_dataset(n_samples,n_features)\n",
    "    print(features.shape)\n",
    "    features = features.reshape(n_samples,n_layers,n_qubits,3)\n",
    "    x_train,y_train,x_test,y_test = generate_dataset(features,labels,M_total,M_train,M_test)\n",
    "    jnp.save(f\"{datasets_path}/{data_type}/x_train_qubit_{n_qubits}_layer_{n_layers}_sample_{M_train}.npy\",x_train)\n",
    "    jnp.save(f\"{datasets_path}/{data_type}/y_train_qubit_{n_qubits}_layer_{n_layers}_sample_{M_train}.npy\",y_train)\n",
    "    jnp.save(f\"{datasets_path}/{data_type}/x_test_qubit_{n_qubits}_layer_{n_layers}_sample_{M_test}.npy\",x_test)\n",
    "    jnp.save(f\"{datasets_path}/{data_type}/y_test_qubit_{n_qubits}_layer_{n_layers}_sample_{M_test}.npy\",y_test)\n",
    "    "
   ]
  },
  {
   "cell_type": "code",
   "execution_count": 10,
   "metadata": {},
   "outputs": [],
   "source": [
    "M_train = 600\n",
    "M_test = 10000\n",
    "M_total = 11000\n",
    "n_qubits = 2\n",
    "data_type = \"regression\"\n",
    "datasets_path = '../../datasets'"
   ]
  },
  {
   "cell_type": "code",
   "execution_count": 11,
   "metadata": {},
   "outputs": [
    {
     "name": "stdout",
     "output_type": "stream",
     "text": [
      "(11000, 6)\n",
      "(11000, 12)\n",
      "(11000, 18)\n",
      "(11000, 24)\n",
      "(11000, 30)\n",
      "(11000, 36)\n",
      "(11000, 42)\n",
      "(11000, 48)\n",
      "(11000, 54)\n",
      "(11000, 60)\n"
     ]
    }
   ],
   "source": [
    "for l in range(1,11):\n",
    "    save_dataset(n_qubits,l,M_train=M_train,M_test=M_test,M_total=M_total,data_type=data_type,datasets_path=datasets_path)"
   ]
  },
  {
   "cell_type": "code",
   "execution_count": 48,
   "metadata": {},
   "outputs": [],
   "source": []
  },
  {
   "cell_type": "code",
   "execution_count": null,
   "metadata": {},
   "outputs": [],
   "source": []
  },
  {
   "cell_type": "code",
   "execution_count": null,
   "metadata": {},
   "outputs": [],
   "source": []
  },
  {
   "cell_type": "code",
   "execution_count": null,
   "metadata": {},
   "outputs": [],
   "source": []
  }
 ],
 "metadata": {
  "kernelspec": {
   "display_name": "quantum",
   "language": "python",
   "name": "python3"
  },
  "language_info": {
   "codemirror_mode": {
    "name": "ipython",
    "version": 3
   },
   "file_extension": ".py",
   "mimetype": "text/x-python",
   "name": "python",
   "nbconvert_exporter": "python",
   "pygments_lexer": "ipython3",
   "version": "3.11.9"
  }
 },
 "nbformat": 4,
 "nbformat_minor": 2
}
