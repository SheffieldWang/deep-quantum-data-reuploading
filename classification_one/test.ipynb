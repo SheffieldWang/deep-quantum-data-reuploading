{
 "cells": [
  {
   "cell_type": "code",
   "execution_count": 1,
   "metadata": {},
   "outputs": [
    {
     "name": "stderr",
     "output_type": "stream",
     "text": [
      "/home/qcql/miniconda3/envs/quantum/lib/python3.11/site-packages/tqdm/auto.py:21: TqdmWarning: IProgress not found. Please update jupyter and ipywidgets. See https://ipywidgets.readthedocs.io/en/stable/user_install.html\n",
      "  from .autonotebook import tqdm as notebook_tqdm\n"
     ]
    }
   ],
   "source": [
    "import sys\n",
    "import os\n",
    "current_dir = os.getcwd()  # 获取当前工作目录\n",
    "parent_dir = os.path.dirname(current_dir)  # 获取父目录\n",
    "sys.path.append(parent_dir)\n",
    "\n",
    "import pandas as pd\n",
    "import pennylane as qml\n",
    "import pickle\n",
    "\n",
    "import logging \n",
    "from datetime import datetime\n",
    "from tqdm import *\n",
    "import argparse\n",
    "\n",
    "import jax \n",
    "import jax.numpy as jnp  \n",
    "import optax\n",
    "from flax import nnx \n",
    "\n",
    "\n",
    "from datasets_utils import get_quantum_dataloaders\n",
    "from model import DataReuploading\n",
    "from train_utils import ClassificationTrainer\n",
    "import wandb\n"
   ]
  },
  {
   "cell_type": "code",
   "execution_count": 2,
   "metadata": {},
   "outputs": [],
   "source": [
    "jax.config.update('jax_platform_name', 'cpu')\n",
    "jax.config.update(\"jax_enable_x64\", True)\n"
   ]
  },
  {
   "cell_type": "code",
   "execution_count": 4,
   "metadata": {},
   "outputs": [],
   "source": [
    "n_qubits = 5\n",
    "n_layers = 1\n",
    "n_samples = 5000\n",
    "max_layers = 1\n",
    "n_reps = 16\n",
    "n_epochs = 50\n",
    "n_repeats = 1\n",
    "seed = 0\n",
    "batch_size = 200\n",
    "lr = 0.01\n",
    "optax_optimizer = 'adam'\n",
    "loss_fn = 'cross_entropy'\n",
    "project_name = 'classification_linear'"
   ]
  },
  {
   "cell_type": "code",
   "execution_count": 5,
   "metadata": {},
   "outputs": [],
   "source": [
    "config = {\n",
    "    'n_qubits': n_qubits,\n",
    "    'n_layers': n_layers,\n",
    "    'max_layers':max_layers,\n",
    "    'n_reps': n_reps,\n",
    "    'optimizer': 'adam',\n",
    "    'loss_fn': 'cross_entropy',\n",
    "    'batch_size': batch_size,\n",
    "    'learning_rate': lr,\n",
    "    'n_epochs': n_epochs,\n",
    "    'n_repeats': n_repeats,\n",
    "    'seed':seed,\n",
    "    'use_wandb': True,\n",
    "    'save_epoch_metrics': False,\n",
    "    'test_every_epoch': True,\n",
    "    'save_best_model': True,\n",
    "    'project_name': project_name,\n",
    "    'group_name': f'qubits_{n_qubits}_layers_{n_layers}_reps_{n_reps}_samples_{n_samples}'\n",
    "}"
   ]
  },
  {
   "cell_type": "code",
   "execution_count": 14,
   "metadata": {},
   "outputs": [],
   "source": [
    "train_loader, test_loader = get_quantum_dataloaders(n_qubits=n_qubits, n_layers=n_layers, n_samples=n_samples, data_type=\"classification_linear\",batch_size=batch_size)"
   ]
  },
  {
   "cell_type": "code",
   "execution_count": 15,
   "metadata": {},
   "outputs": [],
   "source": [
    "qnet = DataReuploading(n_qubits=n_qubits, n_reps=n_reps, n_layers=n_layers,max_layers=max_layers,measurement_type=\"probs\",measure_wires = [0],seed=seed,ansatz_type=\"zero_padding\")"
   ]
  },
  {
   "cell_type": "code",
   "execution_count": 7,
   "metadata": {},
   "outputs": [],
   "source": [
    "for batch in train_loader:\n",
    "    break;"
   ]
  },
  {
   "cell_type": "code",
   "execution_count": 16,
   "metadata": {},
   "outputs": [],
   "source": []
  },
  {
   "cell_type": "code",
   "execution_count": 17,
   "metadata": {},
   "outputs": [
    {
     "data": {
      "text/plain": [
       "Array(0.68671433, dtype=float64)"
      ]
     },
     "execution_count": 17,
     "metadata": {},
     "output_type": "execute_result"
    }
   ],
   "source": [
    "qnet.quantum_model.vn_entropy(x)"
   ]
  },
  {
   "cell_type": "code",
   "execution_count": 18,
   "metadata": {},
   "outputs": [
    {
     "data": {
      "text/plain": [
       "DataReuploading( # Param: 384 (3.1 KB)\n",
       "  quantum_model=ZeroPaddingCircuit( # Param: 384 (3.1 KB)\n",
       "    n_qubits=8,\n",
       "    interface='jax',\n",
       "    device=<default.qubit device (wires=8) at 0x7ee9d2bc18d0>,\n",
       "    measurement_type='probs',\n",
       "    hamiltonian=None,\n",
       "    measure_wires=[0],\n",
       "    params=Param( # 384 (3.1 KB)\n",
       "      value=Array(shape=(16, 1, 8, 3), dtype=dtype('float64'))\n",
       "    ),\n",
       "    n_reps=16,\n",
       "    n_layers=1,\n",
       "    max_layers=1,\n",
       "    shape=(16, 1, 8, 3)\n",
       "  )\n",
       ")"
      ]
     },
     "execution_count": 18,
     "metadata": {},
     "output_type": "execute_result"
    }
   ],
   "source": [
    "qnet"
   ]
  },
  {
   "cell_type": "code",
   "execution_count": 19,
   "metadata": {},
   "outputs": [],
   "source": [
    "trainer = ClassificationTrainer(config, qnet, train_loader, test_loader)"
   ]
  },
  {
   "cell_type": "code",
   "execution_count": 20,
   "metadata": {},
   "outputs": [
    {
     "name": "stderr",
     "output_type": "stream",
     "text": [
      "\u001b[34m\u001b[1mwandb\u001b[0m: Using wandb-core as the SDK backend.  Please refer to https://wandb.me/wandb-core for more information.\n"
     ]
    },
    {
     "name": "stderr",
     "output_type": "stream",
     "text": [
      "\u001b[34m\u001b[1mwandb\u001b[0m: Currently logged in as: \u001b[33mwangxiaojin12138\u001b[0m (\u001b[33mx-wang-tsinghua\u001b[0m) to \u001b[32mhttps://api.wandb.ai\u001b[0m. Use \u001b[1m`wandb login --relogin`\u001b[0m to force relogin\n"
     ]
    },
    {
     "data": {
      "text/html": [
       "Tracking run with wandb version 0.19.8"
      ],
      "text/plain": [
       "<IPython.core.display.HTML object>"
      ]
     },
     "metadata": {},
     "output_type": "display_data"
    },
    {
     "data": {
      "text/html": [
       "Run data is saved locally in <code>../wandb/classification_linear/wandb/run-20250326_214716-6y6cbxx2</code>"
      ],
      "text/plain": [
       "<IPython.core.display.HTML object>"
      ]
     },
     "metadata": {},
     "output_type": "display_data"
    },
    {
     "data": {
      "text/html": [
       "Syncing run <strong><a href='https://wandb.ai/x-wang-tsinghua/classification_linear/runs/6y6cbxx2' target=\"_blank\">run_0</a></strong> to <a href='https://wandb.ai/x-wang-tsinghua/classification_linear' target=\"_blank\">Weights & Biases</a> (<a href='https://wandb.me/developer-guide' target=\"_blank\">docs</a>)<br>"
      ],
      "text/plain": [
       "<IPython.core.display.HTML object>"
      ]
     },
     "metadata": {},
     "output_type": "display_data"
    },
    {
     "data": {
      "text/html": [
       " View project at <a href='https://wandb.ai/x-wang-tsinghua/classification_linear' target=\"_blank\">https://wandb.ai/x-wang-tsinghua/classification_linear</a>"
      ],
      "text/plain": [
       "<IPython.core.display.HTML object>"
      ]
     },
     "metadata": {},
     "output_type": "display_data"
    },
    {
     "data": {
      "text/html": [
       " View run at <a href='https://wandb.ai/x-wang-tsinghua/classification_linear/runs/6y6cbxx2' target=\"_blank\">https://wandb.ai/x-wang-tsinghua/classification_linear/runs/6y6cbxx2</a>"
      ],
      "text/plain": [
       "<IPython.core.display.HTML object>"
      ]
     },
     "metadata": {},
     "output_type": "display_data"
    },
    {
     "name": "stderr",
     "output_type": "stream",
     "text": [
      "Training epochs: 100%|██████████| 50/50 [09:47<00:00, 11.74s/it]\n",
      "2025-03-26 21:57:04,329 - INFO - Training completed, final metrics: {'loss': 0.6807901462037488, 'accuracy': 0.6648000000000001, 'pred_error': 0.4870752403671223}\n"
     ]
    },
    {
     "data": {
      "text/html": [],
      "text/plain": [
       "<IPython.core.display.HTML object>"
      ]
     },
     "metadata": {},
     "output_type": "display_data"
    },
    {
     "data": {
      "text/html": [
       "<br>    <style><br>        .wandb-row {<br>            display: flex;<br>            flex-direction: row;<br>            flex-wrap: wrap;<br>            justify-content: flex-start;<br>            width: 100%;<br>        }<br>        .wandb-col {<br>            display: flex;<br>            flex-direction: column;<br>            flex-basis: 100%;<br>            flex: 1;<br>            padding: 10px;<br>        }<br>    </style><br><div class=\"wandb-row\"><div class=\"wandb-col\"><h3>Run history:</h3><br/><table class=\"wandb\"><tr><td>test_accuracy</td><td>▂▃▁▁▃▂▂▃▂▃▄▄▅▇▇▆▇█▇█▇██████▇▇▆▅▆▅▅▅▅▅▄▄▅</td></tr><tr><td>test_loss</td><td>▆▇██▇▆▆▅▅▅▄▃▃▃▂▂▂▂▂▂▂▂▂▂▂▁▁▁▁▁▁▁▁▁▁▁▂▂▂▂</td></tr><tr><td>test_pred_error</td><td>▆▇██▇▆▆▅▅▅▄▃▃▃▂▂▂▂▂▂▂▂▂▂▁▁▁▁▁▁▁▁▁▁▁▁▂▂▂▂</td></tr><tr><td>train_accuracy</td><td>▁▃▅▆▆▇▇▇▇▇▇▇▇▇▇▇▇▇██████████████████████</td></tr><tr><td>train_loss</td><td>█▄▄▃▃▃▂▂▂▂▂▂▂▂▂▂▂▁▁▁▁▁▁▁▁▁▁▁▁▁▁▁▁▁▁▁▁▁▁▁</td></tr><tr><td>train_pred_error</td><td>█▅▄▄▃▃▃▂▂▂▂▂▂▂▂▂▂▁▁▁▁▁▁▁▁▁▁▁▁▁▁▁▁▁▁▁▁▁▁▁</td></tr></table><br/></div><div class=\"wandb-col\"><h3>Run summary:</h3><br/><table class=\"wandb\"><tr><td>test_accuracy</td><td>0.5079</td></tr><tr><td>test_loss</td><td>0.69304</td></tr><tr><td>test_pred_error</td><td>0.4994</td></tr><tr><td>train_accuracy</td><td>0.6608</td></tr><tr><td>train_loss</td><td>0.6804</td></tr><tr><td>train_pred_error</td><td>0.48667</td></tr></table><br/></div></div>"
      ],
      "text/plain": [
       "<IPython.core.display.HTML object>"
      ]
     },
     "metadata": {},
     "output_type": "display_data"
    },
    {
     "data": {
      "text/html": [
       " View run <strong style=\"color:#cdcd00\">run_0</strong> at: <a href='https://wandb.ai/x-wang-tsinghua/classification_linear/runs/6y6cbxx2' target=\"_blank\">https://wandb.ai/x-wang-tsinghua/classification_linear/runs/6y6cbxx2</a><br> View project at: <a href='https://wandb.ai/x-wang-tsinghua/classification_linear' target=\"_blank\">https://wandb.ai/x-wang-tsinghua/classification_linear</a><br>Synced 5 W&B file(s), 0 media file(s), 0 artifact file(s) and 0 other file(s)"
      ],
      "text/plain": [
       "<IPython.core.display.HTML object>"
      ]
     },
     "metadata": {},
     "output_type": "display_data"
    },
    {
     "data": {
      "text/html": [
       "Find logs at: <code>../wandb/classification_linear/wandb/run-20250326_214716-6y6cbxx2/logs</code>"
      ],
      "text/plain": [
       "<IPython.core.display.HTML object>"
      ]
     },
     "metadata": {},
     "output_type": "display_data"
    }
   ],
   "source": [
    "qnet,metrics = trainer.train()"
   ]
  },
  {
   "cell_type": "code",
   "execution_count": 26,
   "metadata": {},
   "outputs": [],
   "source": [
    "x = batch[0][2]"
   ]
  },
  {
   "cell_type": "code",
   "execution_count": 30,
   "metadata": {},
   "outputs": [],
   "source": [
    "z = jnp.zeros_like(x)"
   ]
  },
  {
   "cell_type": "code",
   "execution_count": 31,
   "metadata": {},
   "outputs": [
    {
     "data": {
      "text/plain": [
       "Array(0.68672929, dtype=float64)"
      ]
     },
     "execution_count": 31,
     "metadata": {},
     "output_type": "execute_result"
    }
   ],
   "source": [
    "qnet.quantum_model.vn_entropy(z)"
   ]
  },
  {
   "cell_type": "code",
   "execution_count": 31,
   "metadata": {},
   "outputs": [],
   "source": [
    "# metrics['final_metrics']"
   ]
  },
  {
   "cell_type": "code",
   "execution_count": 32,
   "metadata": {},
   "outputs": [],
   "source": [
    "# metrics['epoch_metrics']['train']"
   ]
  },
  {
   "cell_type": "code",
   "execution_count": 33,
   "metadata": {},
   "outputs": [],
   "source": [
    "from metric import Metrics\n",
    "\n",
    "class ExperimentManager:\n",
    "    def __init__(self, config):\n",
    "        self.config = config\n",
    "        self.results_df = pd.DataFrame()\n",
    "        self.metrics = Metrics()\n",
    "        self.model_list = []\n",
    "        \n",
    "        self.setup_config()\n",
    "        self.setup_metrics()\n",
    "        \n",
    "       \n",
    "    def setup_config(self):\n",
    "        self.n_repeats = self.config['n_repeats']\n",
    "     \n",
    "    def setup_metrics(self):\n",
    "        self.metrics.register_metric(\"loss\",split=\"train\",index_type=\"repeat\")\n",
    "        self.metrics.register_metric(\"accuracy\",split=\"train\",index_type=\"repeat\")\n",
    "        self.metrics.register_metric(\"pred_error\",split=\"train\",index_type=\"repeat\")\n",
    "        self.metrics.register_metric(\"loss\",split=\"test\",index_type=\"repeat\")\n",
    "        self.metrics.register_metric(\"accuracy\",split=\"test\",index_type=\"repeat\")\n",
    "        self.metrics.register_metric(\"pred_error\",split=\"test\",index_type=\"repeat\")\n",
    "        \n",
    "        \n",
    "        \n",
    "    def run_experiments(self):\n",
    "        \"\"\"运行多次实验\"\"\"\n",
    "        for i in range(self.n_repeats):\n",
    "            print(f\"\\nRunning experiment {i+1}/{self.n_repeats}\")\n",
    "            # 每次实验使用不同的随机种子\n",
    "            seed = i\n",
    "            self.config['seed'] = seed\n",
    "            qnet = DataReuploading(n_qubits=n_qubits, n_reps=n_reps, n_layers=n_layers,max_layers=max_layers,measurement_type=\"probs\",measure_wires = [0],seed=seed,ansatz_type=\"zero_padding\")\n",
    "            trainer = ClassificationTrainer(self.config,qnet,train_loader,test_loader)\n",
    "            qnet,train_metrics = trainer.train()\n",
    "            _,test_metrics = trainer.test()\n",
    "            self.metrics.update(\"loss\", train_metrics['final_metrics']['loss'], split=\"train\", index_type=\"repeat\")\n",
    "            self.metrics.update(\"accuracy\", train_metrics['final_metrics']['accuracy'], split=\"train\", index_type=\"repeat\")\n",
    "            self.metrics.update(\"pred_error\", train_metrics['final_metrics']['pred_error'], split=\"train\", index_type=\"repeat\")\n",
    "            self.metrics.update(\"loss\", test_metrics['final_metrics']['loss'], split=\"test\", index_type=\"repeat\")\n",
    "            self.metrics.update(\"accuracy\", test_metrics['final_metrics']['accuracy'], split=\"test\", index_type=\"repeat\")\n",
    "            self.metrics.update(\"pred_error\", test_metrics['final_metrics']['pred_error'], split=\"test\", index_type=\"repeat\")\n",
    "            \n",
    "            model_params = qnet.quantum_model.get_params()\n",
    "            self.model_list.append(model_params)\n",
    "            \n",
    "            \n",
    "            \n",
    "        train_results = self.metrics.get_metrics(split='train')\n",
    "        train_values = train_results['values']\n",
    "        train_stats = train_results['stats']\n",
    "\n",
    "        test_results = self.metrics.get_metrics(split='test')\n",
    "        test_values = test_results['values']\n",
    "        test_stats = test_results['stats']\n",
    "\n",
    "        # Create DataFrame with results\n",
    "        data = {'Experiment': range(1, n_repeats+1)}\n",
    "\n",
    "        # Add train metrics\n",
    "        for key in train_values.keys():\n",
    "            data[f'Train {key.capitalize()}'] = train_values[key]\n",
    "\n",
    "        # Add test metrics  \n",
    "        for key in test_values.keys():\n",
    "            data[f'Test {key.capitalize()}'] = test_values[key]\n",
    "\n",
    "        self.results_df = pd.DataFrame(data)\n",
    "\n",
    "        \n",
    "        print(\"\\n\" + \"=\"*50)\n",
    "        print(\"Statistics\".center(50))\n",
    "        print(\"=\"*50)\n",
    "        for metric in train_stats.keys():\n",
    "            print(f\"\\n{metric.capitalize()}:\")\n",
    "            print(\"-\"*30)\n",
    "            print(\"Train:\")\n",
    "            for stat_name, value in train_stats[metric].items():\n",
    "                print(f\"{stat_name.capitalize():>15}: {value:.4f}\")\n",
    "            print(\"-\"*30)\n",
    "            print(\"Test:\")\n",
    "            for stat_name, value in test_stats[metric].items():\n",
    "                print(f\"{stat_name.capitalize():>15}: {value:.4f}\")\n",
    "            print(\"-\"*30)\n",
    "\n",
    "\n",
    "\n",
    "        # 保存结果\n",
    "        self.save_results()\n",
    "        \n",
    "    \n",
    "    def save_results(self):\n",
    "        \"\"\"保存实验结果\"\"\"\n",
    "        results_dir = '../results'\n",
    "        os.makedirs(f'{results_dir}/{self.config[\"project_name\"]}', exist_ok=True)\n",
    "        # 保存DataFrame为CSV\n",
    "        csv_path = f'{results_dir}/{self.config[\"project_name\"]}/experiment_results_{self.config[\"group_name\"]}.csv'\n",
    "        self.results_df.to_csv(csv_path, index=False)\n",
    "        \n",
    "        # 保存所有数据（包括参数）到pickle文件\n",
    "        full_results = {\n",
    "            'config': self.config,\n",
    "            'model_list': self.model_list\n",
    "        }\n",
    "        pickle_path = f'{results_dir}/{self.config[\"project_name\"]}/full_results_{self.config[\"group_name\"]}.pkl'\n",
    "        with open(pickle_path, 'wb') as f:\n",
    "            pickle.dump(full_results, f)\n",
    "        \n",
    "        print(f\"Results saved to {csv_path} and {pickle_path}\")   \n"
   ]
  },
  {
   "cell_type": "code",
   "execution_count": 34,
   "metadata": {},
   "outputs": [],
   "source": [
    "experiment_manager = ExperimentManager(config)\n"
   ]
  },
  {
   "cell_type": "code",
   "execution_count": null,
   "metadata": {},
   "outputs": [
    {
     "name": "stdout",
     "output_type": "stream",
     "text": [
      "\n",
      "Running experiment 1/2\n"
     ]
    },
    {
     "data": {
      "text/html": [
       "Tracking run with wandb version 0.18.5"
      ],
      "text/plain": [
       "<IPython.core.display.HTML object>"
      ]
     },
     "metadata": {},
     "output_type": "display_data"
    },
    {
     "data": {
      "text/html": [
       "Run data is saved locally in <code>../wandb/classification_linear/wandb/run-20250325_114636-thwxxri2</code>"
      ],
      "text/plain": [
       "<IPython.core.display.HTML object>"
      ]
     },
     "metadata": {},
     "output_type": "display_data"
    },
    {
     "data": {
      "text/html": [
       "Syncing run <strong><a href='https://wandb.ai/x-wang-tsinghua/classification_linear/runs/thwxxri2' target=\"_blank\">run_0</a></strong> to <a href='https://wandb.ai/x-wang-tsinghua/classification_linear' target=\"_blank\">Weights & Biases</a> (<a href='https://wandb.me/run' target=\"_blank\">docs</a>)<br/>"
      ],
      "text/plain": [
       "<IPython.core.display.HTML object>"
      ]
     },
     "metadata": {},
     "output_type": "display_data"
    },
    {
     "data": {
      "text/html": [
       " View project at <a href='https://wandb.ai/x-wang-tsinghua/classification_linear' target=\"_blank\">https://wandb.ai/x-wang-tsinghua/classification_linear</a>"
      ],
      "text/plain": [
       "<IPython.core.display.HTML object>"
      ]
     },
     "metadata": {},
     "output_type": "display_data"
    },
    {
     "data": {
      "text/html": [
       " View run at <a href='https://wandb.ai/x-wang-tsinghua/classification_linear/runs/thwxxri2' target=\"_blank\">https://wandb.ai/x-wang-tsinghua/classification_linear/runs/thwxxri2</a>"
      ],
      "text/plain": [
       "<IPython.core.display.HTML object>"
      ]
     },
     "metadata": {},
     "output_type": "display_data"
    },
    {
     "name": "stderr",
     "output_type": "stream",
     "text": [
      "Training epochs:   0%|          | 0/50 [00:00<?, ?it/s]Exception ignored in: <bound method IPythonKernel._clean_thread_parent_frames of <ipykernel.ipkernel.IPythonKernel object at 0x7e1afa808910>>\n",
      "Traceback (most recent call last):\n",
      "  File \"/home/xwang/miniconda3/envs/quantum/lib/python3.11/site-packages/ipykernel/ipkernel.py\", line 775, in _clean_thread_parent_frames\n",
      "    def _clean_thread_parent_frames(\n",
      "\n",
      "KeyboardInterrupt: \n",
      "Training epochs:  20%|██        | 10/50 [00:12<00:13,  2.96it/s]"
     ]
    }
   ],
   "source": [
    "experiment_manager.run_experiments()"
   ]
  },
  {
   "cell_type": "code",
   "execution_count": 16,
   "metadata": {},
   "outputs": [
    {
     "name": "stdout",
     "output_type": "stream",
     "text": [
      "Loaded results:\n",
      "Config: {'n_qubits': 1, 'n_layers': 8, 'max_layers': 8, 'n_reps': 8, 'optimizer': 'adam', 'loss_fn': 'cross_entropy', 'batch_size': 200, 'learning_rate': 0.01, 'n_epochs': 50, 'n_repeats': 2, 'seed': 1, 'use_wandb': True, 'save_epoch_metrics': False, 'test_every_epoch': False, 'save_best_model': True, 'project_name': 'classification_linear', 'group_name': 'qubits_1_layers_8_reps_8_samples_600'}\n",
      "Number of models: 2\n"
     ]
    }
   ],
   "source": [
    "# Load the saved results\n",
    "results_dir = '../results'\n",
    "project_name = config[\"project_name\"]\n",
    "group_name = config[\"group_name\"]\n",
    "pickle_path = f'{results_dir}/{project_name}/full_results_{group_name}.pkl'\n",
    "\n",
    "with open(pickle_path, 'rb') as f:\n",
    "    loaded_results = pickle.load(f)\n",
    "\n",
    "print(\"Loaded results:\")\n",
    "print(f\"Config: {loaded_results['config']}\")\n",
    "print(f\"Number of models: {len(loaded_results['model_list'])}\")\n"
   ]
  },
  {
   "cell_type": "code",
   "execution_count": 18,
   "metadata": {},
   "outputs": [
    {
     "data": {
      "text/plain": [
       "Array([[[[-0.30038128,  1.04383215,  1.57592131]],\n",
       "\n",
       "        [[-0.63471539, -0.00962056,  0.06373682]],\n",
       "\n",
       "        [[-0.88191157,  1.9311169 , -0.39301373]],\n",
       "\n",
       "        [[-0.35502995, -1.21814589,  0.09401016]],\n",
       "\n",
       "        [[-0.08605331, -1.19914295, -0.8620287 ]],\n",
       "\n",
       "        [[ 0.50431685, -0.50552769,  1.03440312]],\n",
       "\n",
       "        [[-0.75342598,  1.58501085,  0.24514733]],\n",
       "\n",
       "        [[-1.10183755, -0.31509729, -0.58563505]]],\n",
       "\n",
       "\n",
       "       [[[-0.47320803,  0.62100707, -0.37348003]],\n",
       "\n",
       "        [[-1.16540027,  0.19600207, -0.38075203]],\n",
       "\n",
       "        [[ 0.64297934,  0.46571483,  0.22733414]],\n",
       "\n",
       "        [[-0.7151162 , -0.28432722,  0.72989529]],\n",
       "\n",
       "        [[ 1.80395613,  0.30776894, -1.25404772]],\n",
       "\n",
       "        [[-1.17583088,  1.24825963,  2.04078925]],\n",
       "\n",
       "        [[ 0.35782603, -2.22282976,  0.30992756]],\n",
       "\n",
       "        [[-0.56769994,  0.94222343,  0.19204637]]],\n",
       "\n",
       "\n",
       "       [[[ 0.74798515, -0.16757212,  0.4267965 ]],\n",
       "\n",
       "        [[ 0.72150718, -1.3996204 ,  0.14527948]],\n",
       "\n",
       "        [[ 0.26071809,  0.63204436,  1.12476995]],\n",
       "\n",
       "        [[-0.68159122,  0.23300322,  1.28001339]],\n",
       "\n",
       "        [[ 1.74233166, -1.34407681,  0.26582524]],\n",
       "\n",
       "        [[ 0.34198613, -0.99494541,  0.64762174]],\n",
       "\n",
       "        [[-0.49400859,  0.14455573, -0.28681393]],\n",
       "\n",
       "        [[-0.20388295, -0.29641549,  0.41295597]]],\n",
       "\n",
       "\n",
       "       [[[-0.66141906, -0.34492374, -1.53998942]],\n",
       "\n",
       "        [[-1.32229506, -1.14284465,  0.46065462]],\n",
       "\n",
       "        [[-0.43001076, -0.15513513, -1.04795514]],\n",
       "\n",
       "        [[-1.16671545,  0.67611244, -1.69490519]],\n",
       "\n",
       "        [[ 0.13948716,  0.43320007,  0.49441911]],\n",
       "\n",
       "        [[ 0.92134245,  0.45555318,  0.12440137]],\n",
       "\n",
       "        [[ 1.444911  , -0.58166218, -0.88215446]],\n",
       "\n",
       "        [[ 1.66775782,  0.05697897, -1.39864394]]],\n",
       "\n",
       "\n",
       "       [[[-1.11564335,  0.86025316,  1.72461019]],\n",
       "\n",
       "        [[ 0.05958893,  0.40547497, -1.52936945]],\n",
       "\n",
       "        [[-0.19953957,  0.45567675, -0.79594273]],\n",
       "\n",
       "        [[ 0.51882133, -1.65742776,  0.03824421]],\n",
       "\n",
       "        [[ 1.00340854,  1.74166397,  1.50266467]],\n",
       "\n",
       "        [[-1.27996246, -1.60242589,  0.09344458]],\n",
       "\n",
       "        [[-1.14838801,  0.02717482, -0.53428148]],\n",
       "\n",
       "        [[-1.26840153, -1.02745471,  0.52868134]]],\n",
       "\n",
       "\n",
       "       [[[ 0.20291288,  2.26992288, -1.73603537]],\n",
       "\n",
       "        [[-0.68169963, -0.6413516 ,  0.60107881]],\n",
       "\n",
       "        [[-0.25476101,  0.92095869, -1.77678309]],\n",
       "\n",
       "        [[-1.24281935,  1.27101496, -1.37447109]],\n",
       "\n",
       "        [[ 0.94843257, -0.52309074, -0.62232161]],\n",
       "\n",
       "        [[ 1.02417576, -0.64478256,  1.19753316]],\n",
       "\n",
       "        [[-0.24713857,  0.5878288 , -0.06081872]],\n",
       "\n",
       "        [[-0.91538082, -1.10100469, -0.95027144]]],\n",
       "\n",
       "\n",
       "       [[[ 0.37588736,  0.07099551, -1.07793144]],\n",
       "\n",
       "        [[ 0.27144928, -2.02468961, -0.85991814]],\n",
       "\n",
       "        [[ 0.78992641, -0.85922742,  0.36060034]],\n",
       "\n",
       "        [[-1.04435937, -1.40822115,  1.96012288]],\n",
       "\n",
       "        [[ 0.16483531,  0.05228035, -0.2668341 ]],\n",
       "\n",
       "        [[-0.80315704, -0.44236275, -0.88872996]],\n",
       "\n",
       "        [[ 2.3744315 ,  0.4780488 ,  0.2964762 ]],\n",
       "\n",
       "        [[-0.39666946,  0.57170542, -0.4566972 ]]],\n",
       "\n",
       "\n",
       "       [[[-0.55818948, -1.02432862,  0.18197101]],\n",
       "\n",
       "        [[ 1.22943025, -0.07684906,  0.71472135]],\n",
       "\n",
       "        [[-1.04104652,  0.23782241, -0.2585562 ]],\n",
       "\n",
       "        [[ 0.64505146,  0.42006141,  1.73172465]],\n",
       "\n",
       "        [[-1.89628533, -1.23826056, -0.46974573]],\n",
       "\n",
       "        [[ 0.28321326, -0.58513766,  2.321917  ]],\n",
       "\n",
       "        [[-0.81241178, -1.38531075, -1.3005717 ]],\n",
       "\n",
       "        [[ 0.23519944,  1.0751653 ,  0.15857952]]]], dtype=float64)"
      ]
     },
     "execution_count": 18,
     "metadata": {},
     "output_type": "execute_result"
    }
   ],
   "source": [
    "loaded_results['model_list'][0]"
   ]
  },
  {
   "cell_type": "code",
   "execution_count": 19,
   "metadata": {},
   "outputs": [],
   "source": [
    "qnet.quantum_model.update_params(loaded_results['model_list'][0])"
   ]
  },
  {
   "cell_type": "code",
   "execution_count": 20,
   "metadata": {},
   "outputs": [
    {
     "data": {
      "text/plain": [
       "Array([[[[-0.30038128,  1.04383215,  1.57592131]],\n",
       "\n",
       "        [[-0.63471539, -0.00962056,  0.06373682]],\n",
       "\n",
       "        [[-0.88191157,  1.9311169 , -0.39301373]],\n",
       "\n",
       "        [[-0.35502995, -1.21814589,  0.09401016]],\n",
       "\n",
       "        [[-0.08605331, -1.19914295, -0.8620287 ]],\n",
       "\n",
       "        [[ 0.50431685, -0.50552769,  1.03440312]],\n",
       "\n",
       "        [[-0.75342598,  1.58501085,  0.24514733]],\n",
       "\n",
       "        [[-1.10183755, -0.31509729, -0.58563505]]],\n",
       "\n",
       "\n",
       "       [[[-0.47320803,  0.62100707, -0.37348003]],\n",
       "\n",
       "        [[-1.16540027,  0.19600207, -0.38075203]],\n",
       "\n",
       "        [[ 0.64297934,  0.46571483,  0.22733414]],\n",
       "\n",
       "        [[-0.7151162 , -0.28432722,  0.72989529]],\n",
       "\n",
       "        [[ 1.80395613,  0.30776894, -1.25404772]],\n",
       "\n",
       "        [[-1.17583088,  1.24825963,  2.04078925]],\n",
       "\n",
       "        [[ 0.35782603, -2.22282976,  0.30992756]],\n",
       "\n",
       "        [[-0.56769994,  0.94222343,  0.19204637]]],\n",
       "\n",
       "\n",
       "       [[[ 0.74798515, -0.16757212,  0.4267965 ]],\n",
       "\n",
       "        [[ 0.72150718, -1.3996204 ,  0.14527948]],\n",
       "\n",
       "        [[ 0.26071809,  0.63204436,  1.12476995]],\n",
       "\n",
       "        [[-0.68159122,  0.23300322,  1.28001339]],\n",
       "\n",
       "        [[ 1.74233166, -1.34407681,  0.26582524]],\n",
       "\n",
       "        [[ 0.34198613, -0.99494541,  0.64762174]],\n",
       "\n",
       "        [[-0.49400859,  0.14455573, -0.28681393]],\n",
       "\n",
       "        [[-0.20388295, -0.29641549,  0.41295597]]],\n",
       "\n",
       "\n",
       "       [[[-0.66141906, -0.34492374, -1.53998942]],\n",
       "\n",
       "        [[-1.32229506, -1.14284465,  0.46065462]],\n",
       "\n",
       "        [[-0.43001076, -0.15513513, -1.04795514]],\n",
       "\n",
       "        [[-1.16671545,  0.67611244, -1.69490519]],\n",
       "\n",
       "        [[ 0.13948716,  0.43320007,  0.49441911]],\n",
       "\n",
       "        [[ 0.92134245,  0.45555318,  0.12440137]],\n",
       "\n",
       "        [[ 1.444911  , -0.58166218, -0.88215446]],\n",
       "\n",
       "        [[ 1.66775782,  0.05697897, -1.39864394]]],\n",
       "\n",
       "\n",
       "       [[[-1.11564335,  0.86025316,  1.72461019]],\n",
       "\n",
       "        [[ 0.05958893,  0.40547497, -1.52936945]],\n",
       "\n",
       "        [[-0.19953957,  0.45567675, -0.79594273]],\n",
       "\n",
       "        [[ 0.51882133, -1.65742776,  0.03824421]],\n",
       "\n",
       "        [[ 1.00340854,  1.74166397,  1.50266467]],\n",
       "\n",
       "        [[-1.27996246, -1.60242589,  0.09344458]],\n",
       "\n",
       "        [[-1.14838801,  0.02717482, -0.53428148]],\n",
       "\n",
       "        [[-1.26840153, -1.02745471,  0.52868134]]],\n",
       "\n",
       "\n",
       "       [[[ 0.20291288,  2.26992288, -1.73603537]],\n",
       "\n",
       "        [[-0.68169963, -0.6413516 ,  0.60107881]],\n",
       "\n",
       "        [[-0.25476101,  0.92095869, -1.77678309]],\n",
       "\n",
       "        [[-1.24281935,  1.27101496, -1.37447109]],\n",
       "\n",
       "        [[ 0.94843257, -0.52309074, -0.62232161]],\n",
       "\n",
       "        [[ 1.02417576, -0.64478256,  1.19753316]],\n",
       "\n",
       "        [[-0.24713857,  0.5878288 , -0.06081872]],\n",
       "\n",
       "        [[-0.91538082, -1.10100469, -0.95027144]]],\n",
       "\n",
       "\n",
       "       [[[ 0.37588736,  0.07099551, -1.07793144]],\n",
       "\n",
       "        [[ 0.27144928, -2.02468961, -0.85991814]],\n",
       "\n",
       "        [[ 0.78992641, -0.85922742,  0.36060034]],\n",
       "\n",
       "        [[-1.04435937, -1.40822115,  1.96012288]],\n",
       "\n",
       "        [[ 0.16483531,  0.05228035, -0.2668341 ]],\n",
       "\n",
       "        [[-0.80315704, -0.44236275, -0.88872996]],\n",
       "\n",
       "        [[ 2.3744315 ,  0.4780488 ,  0.2964762 ]],\n",
       "\n",
       "        [[-0.39666946,  0.57170542, -0.4566972 ]]],\n",
       "\n",
       "\n",
       "       [[[-0.55818948, -1.02432862,  0.18197101]],\n",
       "\n",
       "        [[ 1.22943025, -0.07684906,  0.71472135]],\n",
       "\n",
       "        [[-1.04104652,  0.23782241, -0.2585562 ]],\n",
       "\n",
       "        [[ 0.64505146,  0.42006141,  1.73172465]],\n",
       "\n",
       "        [[-1.89628533, -1.23826056, -0.46974573]],\n",
       "\n",
       "        [[ 0.28321326, -0.58513766,  2.321917  ]],\n",
       "\n",
       "        [[-0.81241178, -1.38531075, -1.3005717 ]],\n",
       "\n",
       "        [[ 0.23519944,  1.0751653 ,  0.15857952]]]], dtype=float64)"
      ]
     },
     "execution_count": 20,
     "metadata": {},
     "output_type": "execute_result"
    }
   ],
   "source": [
    "qnet.quantum_model.get_params()"
   ]
  },
  {
   "cell_type": "code",
   "execution_count": null,
   "metadata": {},
   "outputs": [],
   "source": []
  }
 ],
 "metadata": {
  "kernelspec": {
   "display_name": "quantum",
   "language": "python",
   "name": "python3"
  },
  "language_info": {
   "codemirror_mode": {
    "name": "ipython",
    "version": 3
   },
   "file_extension": ".py",
   "mimetype": "text/x-python",
   "name": "python",
   "nbconvert_exporter": "python",
   "pygments_lexer": "ipython3",
   "version": "3.11.11"
  }
 },
 "nbformat": 4,
 "nbformat_minor": 2
}
